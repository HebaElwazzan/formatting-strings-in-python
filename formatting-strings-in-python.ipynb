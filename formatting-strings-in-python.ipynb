{
 "cells": [
  {
   "cell_type": "markdown",
   "id": "86522610",
   "metadata": {},
   "source": [
    "# Formatting Strings in Python\n",
    "\n",
    "As of Python 3.6 there are 5 ways of formatting strings and showing variables in a given string:\n",
    "- % Strings\n",
    "- .format()\n",
    "- f-strings\n",
    "- template strings\n",
    "- concatenation\n",
    "\n",
    "In this notebook we will explore each's usages and list the pros and cons of each."
   ]
  },
  {
   "cell_type": "markdown",
   "id": "5347ce41",
   "metadata": {},
   "source": [
    "## % Strings\n",
    "This is the old style of strings that is still used in many languages such as C. However, it is fairly uncommon to see code written using newer versions of Python using it. The reason is simple: it is a rather inconvenient way, and easier alternatives are readily available. \n",
    "\n",
    "The way to use it is simple: substitute the variable name you wish to use with `%s`then follow the string with the % operator then the variable you wish to use. "
   ]
  },
  {
   "cell_type": "code",
   "execution_count": 53,
   "id": "02022783",
   "metadata": {},
   "outputs": [
    {
     "name": "stdout",
     "output_type": "stream",
     "text": [
      "Hello, Ahmed\n"
     ]
    }
   ],
   "source": [
    "name = 'Ahmed'\n",
    "print('Hello, %s' % name)"
   ]
  },
  {
   "cell_type": "markdown",
   "id": "11d28968",
   "metadata": {},
   "source": [
    "If you are familiar with C functions such as `sprintf()`, you would know that there are a variety of alternatives to %s such as %d, %f, and %x."
   ]
  },
  {
   "cell_type": "code",
   "execution_count": 54,
   "id": "27fde00e",
   "metadata": {},
   "outputs": [
    {
     "name": "stdout",
     "output_type": "stream",
     "text": [
      "This will print an integer: 5\n",
      "This will print a float: 5.000000\n",
      "This will convert a number to its hexadecimal equivalent: 5\n"
     ]
    }
   ],
   "source": [
    "print('This will print an integer: %d' % 5)\n",
    "print('This will print a float: %f' % 5)\n",
    "print('This will convert a number to its hexadecimal equivalent: %x' % 5)"
   ]
  },
  {
   "cell_type": "markdown",
   "id": "e27d113d",
   "metadata": {},
   "source": [
    "If you need to use more than one variable in one print statement, you must use a tuple. It is easy to see how this gets messy very quickly:"
   ]
  },
  {
   "cell_type": "code",
   "execution_count": 55,
   "id": "adaf137b",
   "metadata": {},
   "outputs": [
    {
     "name": "stdout",
     "output_type": "stream",
     "text": [
      "This actor's name is Benedict Cumberbatch. He is 45 years old. His height is 1.830000 metres. Some movies he starred in are ['Doctor Strange', 'The Imitation Game', 'The Hobbit']\n"
     ]
    }
   ],
   "source": [
    "print('This actor\\'s name is %s. He is %d years old. His height is %f metres. Some movies he starred in are %s' \\\n",
    "      % ('Benedict Cumberbatch', 45, 1.83, ['Doctor Strange', 'The Imitation Game', 'The Hobbit']))"
   ]
  },
  {
   "cell_type": "markdown",
   "id": "4a75a5cb",
   "metadata": {},
   "source": [
    "**Note** how we had to escape the ' character using \\. This is present in all formatting methods not just % strings. An alternative way was to use the opposite quotation marks. For example if you were to use double quotes in a string, surround the string with single quotes, and vice versa.\n"
   ]
  },
  {
   "cell_type": "code",
   "execution_count": 56,
   "id": "9b7dfaf5",
   "metadata": {},
   "outputs": [
    {
     "data": {
      "text/plain": [
       "'His name is \"Ahmed\"'"
      ]
     },
     "execution_count": 56,
     "metadata": {},
     "output_type": "execute_result"
    }
   ],
   "source": [
    "'His name is \"Ahmed\"'"
   ]
  },
  {
   "cell_type": "code",
   "execution_count": 57,
   "id": "5232e143",
   "metadata": {},
   "outputs": [
    {
     "data": {
      "text/plain": [
       "\"The actor's name is Benedict Cumberbatch\""
      ]
     },
     "execution_count": 57,
     "metadata": {},
     "output_type": "execute_result"
    }
   ],
   "source": [
    "\"The actor's name is Benedict Cumberbatch\""
   ]
  },
  {
   "cell_type": "markdown",
   "id": "73cf1632",
   "metadata": {},
   "source": [
    "Back to % strings -- in standard Python fashion, built-in features of the programming language are utilized to the max -- yes even with an archaic formatting method such as this!\n",
    "\n",
    "You can, for example, embed dictionaries in your strings:"
   ]
  },
  {
   "cell_type": "code",
   "execution_count": 58,
   "id": "f3ba2345",
   "metadata": {},
   "outputs": [
    {
     "name": "stdout",
     "output_type": "stream",
     "text": [
      "Ahmed has 2 cats.\n"
     ]
    }
   ],
   "source": [
    "print('%(name)s has %(number)d cats.' %\n",
    "      {'name': \"Ahmed\", \"number\": 2})"
   ]
  },
  {
   "cell_type": "markdown",
   "id": "5d126fd3",
   "metadata": {},
   "source": [
    "Other features like zero padding, pace padding, and float precision can also be used:"
   ]
  },
  {
   "cell_type": "code",
   "execution_count": 59,
   "id": "8444bc97",
   "metadata": {},
   "outputs": [
    {
     "name": "stdout",
     "output_type": "stream",
     "text": [
      "Agent 007\n"
     ]
    }
   ],
   "source": [
    "print('Agent %03d' % 7)"
   ]
  },
  {
   "cell_type": "code",
   "execution_count": 60,
   "id": "cef52ebe",
   "metadata": {},
   "outputs": [
    {
     "name": "stdout",
     "output_type": "stream",
     "text": [
      "Can I have 5.00 dollars?\n"
     ]
    }
   ],
   "source": [
    "print('Can I have %.2f dollars?' % 5)"
   ]
  },
  {
   "cell_type": "markdown",
   "id": "cfc8dee3",
   "metadata": {},
   "source": [
    "Padding, hexadecima conversion, float precision, and other features are not unique to % strings. Other forms of formatting have them as well."
   ]
  },
  {
   "cell_type": "markdown",
   "id": "5cf19c80",
   "metadata": {},
   "source": [
    "### Why we don't use % Strings anymore\n",
    "\n",
    "The obvious reasons include its difficulty and readability, as well as a host of other problems where it doesn't display dictionaries and tuples correctly. Even the official Python documentation recommends not using it:\n",
    "> The formatting operations described here exhibit a variety of quirks that lead to a number of common errors (such as failing to display tuples and dictionaries correctly). Using the newer formatted string literals, the str.format() interface, or template strings may help avoid these errors. Each of these alternatives provides their own trade-offs and benefits of simplicity, flexibility, and/or extensibility."
   ]
  },
  {
   "cell_type": "markdown",
   "id": "f299d5eb",
   "metadata": {},
   "source": [
    "##  .format()\n",
    "\n",
    "This method was introduced in python 2.7. It works just like any other string method and is an improvement on readability and usage than its predecessor."
   ]
  },
  {
   "cell_type": "code",
   "execution_count": 61,
   "id": "0876f32f",
   "metadata": {},
   "outputs": [
    {
     "name": "stdout",
     "output_type": "stream",
     "text": [
      "Hello, Ahmed\n"
     ]
    }
   ],
   "source": [
    "print('Hello, {}'.format(name))"
   ]
  },
  {
   "cell_type": "markdown",
   "id": "f4b2cef4",
   "metadata": {},
   "source": [
    "If you want to add more than one variable, you can list them in the order they are mentioned, or index them in different ways:"
   ]
  },
  {
   "cell_type": "code",
   "execution_count": 62,
   "id": "f1b2fc82",
   "metadata": {},
   "outputs": [
    {
     "name": "stdout",
     "output_type": "stream",
     "text": [
      "I love Tom and Jerry\n",
      "I also love Tom and Jerry\n"
     ]
    }
   ],
   "source": [
    "cat = 'Tom'\n",
    "mouse = 'Jerry'\n",
    "print('I love {} and {}'.format(cat, mouse))\n",
    "print('I also love {cat} and {mouse}'.format(cat=cat, mouse=mouse))"
   ]
  },
  {
   "cell_type": "markdown",
   "id": "e5d79188",
   "metadata": {},
   "source": [
    "Keep in mind that `str.format()` is a method just like any other, meaning you can call it on a predefined string."
   ]
  },
  {
   "cell_type": "code",
   "execution_count": 63,
   "id": "b6800e60",
   "metadata": {},
   "outputs": [
    {
     "name": "stdout",
     "output_type": "stream",
     "text": [
      "Hello my name is Ahmed and I love Tom and Jerry\n"
     ]
    }
   ],
   "source": [
    "string_temp = 'Hello my name is {} and I love {}'\n",
    "print(string_temp.format('Ahmed', 'Tom and Jerry'))"
   ]
  },
  {
   "cell_type": "markdown",
   "id": "f2c53fab",
   "metadata": {},
   "source": [
    "## f-strings\n",
    "\n",
    ".format() is already an improvement on formatting strings, but in version 3.6, Python introduced f-strings, which made formatting strings simple and intuitive."
   ]
  },
  {
   "cell_type": "code",
   "execution_count": 64,
   "id": "320cac34",
   "metadata": {},
   "outputs": [
    {
     "name": "stdout",
     "output_type": "stream",
     "text": [
      "Hello Ahmed\n"
     ]
    }
   ],
   "source": [
    "print(f'Hello {name}')"
   ]
  },
  {
   "cell_type": "markdown",
   "id": "3e189c33",
   "metadata": {},
   "source": [
    "Simple enough, right? But it doesn't end here. You can embed *pretty much anything* in your f-strings. Below are a couple of examples:"
   ]
  },
  {
   "cell_type": "code",
   "execution_count": 65,
   "id": "9dc1bab9",
   "metadata": {},
   "outputs": [
    {
     "name": "stdout",
     "output_type": "stream",
     "text": [
      "3 + 4 is 7\n"
     ]
    }
   ],
   "source": [
    "# Arithmetic\n",
    "x = 3\n",
    "y = 4\n",
    "print(f'{x} + {y} is {x + y}')"
   ]
  },
  {
   "cell_type": "code",
   "execution_count": 66,
   "id": "32f2bdab",
   "metadata": {},
   "outputs": [
    {
     "name": "stdout",
     "output_type": "stream",
     "text": [
      "ahmed\n"
     ]
    }
   ],
   "source": [
    "# Functions\n",
    "print(f'{name.lower()}')"
   ]
  },
  {
   "cell_type": "markdown",
   "id": "312132c3",
   "metadata": {},
   "source": [
    "As you can see, f-strings provide the simplest syntax so far. They are also significantly faster than % strings, .format() and even concatenation due to better memory utilization."
   ]
  },
  {
   "cell_type": "markdown",
   "id": "fa20793e",
   "metadata": {},
   "source": [
    "## Template Strings\n",
    "\n",
    "Template strings are a bit clunky to use but are useful in the right setting. First, we have to import it from the standard library:"
   ]
  },
  {
   "cell_type": "code",
   "execution_count": 68,
   "id": "5b21cdb0",
   "metadata": {},
   "outputs": [
    {
     "name": "stdout",
     "output_type": "stream",
     "text": [
      "Good evening, Ahmed\n"
     ]
    }
   ],
   "source": [
    "from string import Template\n",
    "greeting_temp = Template('Good $time, $name')\n",
    "print(greeting_temp.substitute(time='evening', name='Ahmed'))"
   ]
  },
  {
   "cell_type": "markdown",
   "id": "19e5f3db",
   "metadata": {},
   "source": [
    "It wraps up what you could have done using a function. It's useful in situations where you have to type out the same layout for something such as an email where you need to make it personalized for each recipient for example by adding in their names and details."
   ]
  },
  {
   "cell_type": "markdown",
   "id": "d7aade39",
   "metadata": {},
   "source": [
    "## Concatenation\n",
    "\n",
    "Simple concatenation is probably the first way we learnt to format strings with. It can be tedious for longer strings, but can come in handy for quick one liners."
   ]
  },
  {
   "cell_type": "code",
   "execution_count": 69,
   "id": "ec9203d6",
   "metadata": {},
   "outputs": [
    {
     "name": "stdout",
     "output_type": "stream",
     "text": [
      "Hello, my name is Ahmed and I love Tom and Jerry\n"
     ]
    }
   ],
   "source": [
    "print('Hello, my name is ' + name + ' and I love ' + cat + ' and ' + mouse)"
   ]
  },
  {
   "cell_type": "markdown",
   "id": "0675aa51",
   "metadata": {},
   "source": [
    "Thus concludes our overview of Python string formatting. Python offers a versatile range of options for every single aspect of it, and it comes in handy when handling different situations."
   ]
  }
 ],
 "metadata": {
  "kernelspec": {
   "display_name": "Python 3 (ipykernel)",
   "language": "python",
   "name": "python3"
  },
  "language_info": {
   "codemirror_mode": {
    "name": "ipython",
    "version": 3
   },
   "file_extension": ".py",
   "mimetype": "text/x-python",
   "name": "python",
   "nbconvert_exporter": "python",
   "pygments_lexer": "ipython3",
   "version": "3.9.7"
  }
 },
 "nbformat": 4,
 "nbformat_minor": 5
}
